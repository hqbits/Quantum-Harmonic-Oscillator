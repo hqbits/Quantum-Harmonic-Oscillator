{
 "cells": [
  {
   "cell_type": "markdown",
   "id": "72f823a3-6fc2-4893-880d-60c6a10b092e",
   "metadata": {},
   "source": [
    "# Quantum Harmonic Oscillator Simulation\n",
    "\n",
    "This notebook contains a simulation of a quantum harmonic oscillator. The quantum harmonic oscillator is a fundamental model in quantum mechanics that describes the behavior of a particle in a quadratic potential well."
   ]
  },
  {
   "cell_type": "code",
   "execution_count": 2,
   "id": "04dc3440-790e-4fb9-a2a7-b645954fd0f8",
   "metadata": {},
   "outputs": [],
   "source": [
    "import numpy as np\n",
    "import matplotlib.pyplot as plt\n",
    "from scipy.special import hermite\n",
    "from scipy.integrate import simps\n",
    "import math"
   ]
  },
  {
   "cell_type": "markdown",
   "id": "f083906a-48d6-41e1-bf3a-84145bfb7946",
   "metadata": {},
   "source": [
    "1. **Quantum Harmonic Oscillator**\n",
    "\n",
    "   The quantum harmonic oscillator describes a particle subjected to a harmonic potential.\n",
    "\n",
    "   **Parameters and Equations**\n",
    "\n",
    "   The time-independent Schrödinger equation for a harmonic oscillator is given by:\n",
    "\n",
    "   \\[\n",
    "   \\left( -\\frac{\\hbar^2}{2m} \\frac{d^2}{dx^2} + \\frac{1}{2} m \\omega^2 x^2 \\right) \\psi_n(x) = E_n \\psi_n(x)\n",
    "   \\]\n",
    "\n",
    "   where:\n",
    "   - \\( \\hbar \\) is the reduced Planck's constant\n",
    "   - \\( m \\) is the mass of the particle\n",
    "   - \\( \\omega \\) is the angular frequency of the oscillator\n",
    "   - \\( \\psi_n(x) \\) is the wave function of the nth state\n",
    "   - \\( E_n \\) is the energy of the nth state, given by \\( E_n = \\hbar \\omega \\left( n + \\frac{1}{2} \\right) \\)\n",
    "\n",
    "   **Solution**\n",
    "\n",
    "   The wave functions \\( \\psi_n(x) \\) are given by:\n",
    "\n",
    "   \\[\n",
    "   \\psi_n(x) = \\left( \\frac{m\\omega}{\\pi\\hbar} \\right)^{1/4} \\frac{1}{\\sqrt{2^n n!}} e^{-\\frac{m\\omega x^2}{2\\hbar}} H_n\\left( \\sqrt{\\frac{m\\omega}{\\hbar}} x \\right)\n",
    "   \\]\n",
    "\n",
    "   where \\( H_n \\) are the Hermite polynomials.\n",
    "\n",
    "   The wave function \\( \\psi_n(x) \\) represents the quantum state of the particle. For the ground state (\\( n = 0 \\)), it has a Gaussian form centered at the origin, and the probability density \\( |\\psi_n(x)|^2 \\) represents the likelihood of finding the particle at a given position \\( x \\). We use the Hermite polynomials to construct the wave functions for different quantum states. The wave function and probability density for the ground state are plotted to visualize the quantum behavior of the particle."
   ]
  },
  {
   "cell_type": "code",
   "execution_count": null,
   "id": "3f145c98-cd92-459c-ba5a-1487c595857c",
   "metadata": {},
   "outputs": [],
   "source": [
    "# Parameters\n",
    "m = 1.0      # Mass of the particle\n",
    "omega = 1.0  # Angular frequency\n",
    "hbar = 1.0   # Reduced Planck's constant\n",
    "\n",
    "# Hermite polynomials\n",
    "def H(n, x):\n",
    "    return hermite(n)(x)\n",
    "\n",
    "# Wave function\n",
    "def psi(n, x):\n",
    "    coeff = (m * omega / (np.pi * hbar))**0.25 / np.sqrt(2**n * math.factorial(n))\n",
    "    return coeff * np.exp(-m * omega * x**2 / (2 * hbar)) * H(n, np.sqrt(m * omega / hbar) * x)\n",
    "\n",
    "# Probability density\n",
    "def prob_density(n, x):\n",
    "    return np.abs(psi(n, x))**2\n",
    "\n",
    "# Plotting\n",
    "x = np.linspace(-5, 5, 1000)\n",
    "n = 0  # Quantum number (ground state)\n",
    "\n",
    "plt.figure(figsize=(10, 6))\n",
    "plt.plot(x, psi(n, x), label=f'Wave function $\\\\psi_{n}(x)$')\n",
    "plt.plot(x, prob_density(n, x), label=f'Probability density $|\\\\psi_{n}(x)|^2$')\n",
    "plt.xlabel('Position x')\n",
    "plt.ylabel('Wave function / Probability density')\n",
    "plt.title('Quantum Harmonic Oscillator')\n",
    "plt.legend()\n",
    "plt.grid(True)\n",
    "plt.show()"
   ]
  },
  {
   "cell_type": "markdown",
   "id": "40d0c884-f80e-416d-b3c7-f3061ac3ad64",
   "metadata": {},
   "source": [
    "2. **Excited States**\n",
    "\n",
    "   We can also visualize the wave functions and probability densities for excited states (\\( n > 0 \\)). The wave functions and probability densities for higher quantum states (\\( n > 0 \\)) exhibit more oscillatory behavior. By plotting multiple states, we can observe the increasing complexity of the wave functions and their corresponding probability densities."
   ]
  },
  {
   "cell_type": "code",
   "execution_count": null,
   "id": "92790c11-afc8-47bb-bf20-cce3774074d2",
   "metadata": {},
   "outputs": [],
   "source": [
    "# Plotting for different quantum numbers\n",
    "quantum_numbers = [0, 1, 2, 3]\n",
    "\n",
    "plt.figure(figsize=(12, 8))\n",
    "\n",
    "for n in quantum_numbers:\n",
    "    plt.plot(x, psi(n, x), label=f'Wave function $\\\\psi_{n}(x)$ (n={n})')\n",
    "    plt.plot(x, prob_density(n, x), label=f'Probability density $|\\\\psi_{n}(x)|^2$ (n={n})')\n",
    "\n",
    "plt.xlabel('Position x')\n",
    "plt.ylabel('Wave function / Probability density')\n",
    "plt.title('Quantum Harmonic Oscillator - Excited States')\n",
    "plt.legend()\n",
    "plt.grid(True)\n",
    "plt.show()"
   ]
  }
 ],
 "metadata": {
  "kernelspec": {
   "display_name": "Python 3 (ipykernel)",
   "language": "python",
   "name": "python3"
  },
  "language_info": {
   "codemirror_mode": {
    "name": "ipython",
    "version": 3
   },
   "file_extension": ".py",
   "mimetype": "text/x-python",
   "name": "python",
   "nbconvert_exporter": "python",
   "pygments_lexer": "ipython3",
   "version": "3.11.7"
  }
 },
 "nbformat": 4,
 "nbformat_minor": 5
}
